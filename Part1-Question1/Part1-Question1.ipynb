{
 "cells": [
  {
   "cell_type": "markdown",
   "id": "0aed8ed1",
   "metadata": {},
   "source": [
    "### Write a regex to extract all the numbers with orange color background from the below text in italics.\n",
    "\n",
    "*{\"orders\":[{\"id\":<code style=\"background:orange;color:black\">1*</code>},{\"id\":<code style=\"background:orange;color:black\">*2*</code>},{\"id\":<code style=\"background:orange;color:black\">*3*</code>},{\"id\":<code style=\"background:orange;color:black\">*4*</code>},{\"id\":<code style=\"background:orange;color:black\">*5*</code>},{\"id\":<code style=\"background:orange;color:black\">*6*</code>},{\"id\":\n",
    "<code style=\"background:orange;color:black\">*7*</code>},{\"id\":<code style=\"background:orange;color:black\">*8*</code>},{\"id\":<code style=\"background:orange;color:black\">*9*</code>},{\"id\":<code style=\"background:orange;color:black\">*10*</code>},{\"id\":<code style=\"background:orange;color:black\">*11*</code>},{\"id\":<code style=\"background:orange;color:black\">*648*</code>},{\"id\":<code style=\"background:orange;color:black\">*649*</code>},{\"id\":<code style=\"background:orange;color:black\">*650*</code>},{\"id\":<code style=\"background:orange;color:black\"*>651*</code>},{\"id\":<code style=\"background:orange;color:black\">*652*</code>},{\"id\":<code style=\"background:orange;color:black\">*653*</code>}],\"errors\":[{\"code\":<code style=\"background:orange;color:black\">*3*</code>,\"message\":\"[PHP Warning #2] count(): Parameter must be an array or an object that implements Countable (153)\"}]}*"
   ]
  },
  {
   "cell_type": "markdown",
   "id": "e28ed3d0",
   "metadata": {},
   "source": [
    "### Importing regex library"
   ]
  },
  {
   "cell_type": "code",
   "execution_count": 1,
   "id": "551722bd",
   "metadata": {},
   "outputs": [],
   "source": [
    "import re"
   ]
  },
  {
   "cell_type": "markdown",
   "id": "45137887",
   "metadata": {},
   "source": [
    "### Extracting the highlighted text"
   ]
  },
  {
   "cell_type": "code",
   "execution_count": 2,
   "id": "39fd9062",
   "metadata": {},
   "outputs": [],
   "source": [
    "text = '{\"orders\":[{\"id\":1},{\"id\":2},{\"id\":3},{\"id\":4},{\"id\":5},{\"id\":6},{\"id\":7},{\"id\":8},{\"id\":9},{\"id\":10},{\"id\":11},\\\n",
    "        {\"id\":648},{\"id\":649},{\"id\":650},{\"id\":651},{\"id\":652},{\"id\":653}],\"errors\":[{\"code\":3,\"message\":\\\n",
    "        \"[PHP Warning #2] count(): Parameter must be an array or an object that implements Countable (153)\"}]}'"
   ]
  },
  {
   "cell_type": "code",
   "execution_count": 3,
   "id": "605f54a9",
   "metadata": {},
   "outputs": [
    {
     "name": "stdout",
     "output_type": "stream",
     "text": [
      "['1', '2', '3', '4', '5', '6', '7', '8', '9', '10', '11', '648', '649', '650', '651', '652', '653', '3']\n"
     ]
    }
   ],
   "source": [
    "match = re.findall(r'(?<=:)\\d{1,4}', text)\n",
    "print(match)"
   ]
  },
  {
   "cell_type": "code",
   "execution_count": 4,
   "id": "85ef5c28",
   "metadata": {},
   "outputs": [
    {
     "data": {
      "text/plain": [
       "'1,2,3,4,5,6,7,8,9,10,11,648,649,650,651,652,653,3'"
      ]
     },
     "execution_count": 4,
     "metadata": {},
     "output_type": "execute_result"
    }
   ],
   "source": [
    "\",\".join(match)"
   ]
  }
 ],
 "metadata": {
  "kernelspec": {
   "display_name": "Python 3 (ipykernel)",
   "language": "python",
   "name": "python3"
  },
  "language_info": {
   "codemirror_mode": {
    "name": "ipython",
    "version": 3
   },
   "file_extension": ".py",
   "mimetype": "text/x-python",
   "name": "python",
   "nbconvert_exporter": "python",
   "pygments_lexer": "ipython3",
   "version": "3.9.12"
  }
 },
 "nbformat": 4,
 "nbformat_minor": 5
}
