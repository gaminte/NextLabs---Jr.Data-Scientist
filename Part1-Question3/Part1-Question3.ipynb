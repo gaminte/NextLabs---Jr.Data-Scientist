{
 "cells": [
  {
   "cell_type": "markdown",
   "id": "7af0f0f1",
   "metadata": {},
   "source": [
    "### Importing Libraries"
   ]
  },
  {
   "cell_type": "code",
   "execution_count": 124,
   "id": "fd07c7eb",
   "metadata": {},
   "outputs": [],
   "source": [
    "import pandas as pd\n",
    "from sentence_transformers import SentenceTransformer\n",
    "from sklearn.metrics.pairwise import cosine_similarity\n",
    "import numpy as np"
   ]
  },
  {
   "cell_type": "markdown",
   "id": "da270503",
   "metadata": {},
   "source": [
    "### Importing Dataset"
   ]
  },
  {
   "cell_type": "code",
   "execution_count": 11,
   "id": "ca54a84f",
   "metadata": {},
   "outputs": [
    {
     "data": {
      "text/html": [
       "<div>\n",
       "<style scoped>\n",
       "    .dataframe tbody tr th:only-of-type {\n",
       "        vertical-align: middle;\n",
       "    }\n",
       "\n",
       "    .dataframe tbody tr th {\n",
       "        vertical-align: top;\n",
       "    }\n",
       "\n",
       "    .dataframe thead th {\n",
       "        text-align: right;\n",
       "    }\n",
       "</style>\n",
       "<table border=\"1\" class=\"dataframe\">\n",
       "  <thead>\n",
       "    <tr style=\"text-align: right;\">\n",
       "      <th></th>\n",
       "      <th></th>\n",
       "      <th></th>\n",
       "      <th></th>\n",
       "      <th></th>\n",
       "      <th></th>\n",
       "      <th></th>\n",
       "      <th></th>\n",
       "      <th></th>\n",
       "      <th>browser_rankings</th>\n",
       "    </tr>\n",
       "  </thead>\n",
       "  <tbody>\n",
       "    <tr>\n",
       "      <th>ID</th>\n",
       "      <th>Keyword</th>\n",
       "      <th>Rank</th>\n",
       "      <th>Country</th>\n",
       "      <th>Language</th>\n",
       "      <th>Date</th>\n",
       "      <th>App ID</th>\n",
       "      <th>Date of Last Description Change</th>\n",
       "      <th>Short Description</th>\n",
       "      <td>Long Description</td>\n",
       "    </tr>\n",
       "    <tr>\n",
       "      <th>1</th>\n",
       "      <th>browser</th>\n",
       "      <th>2</th>\n",
       "      <th>in</th>\n",
       "      <th>en</th>\n",
       "      <th>2020-12-16</th>\n",
       "      <th>net.fast.web.browser</th>\n",
       "      <th>2020-12-18</th>\n",
       "      <th>The small, fastest, secure Web Browser, best mobile browser, fast search Google.</th>\n",
       "      <td>One of the smallest, fastest, secure Web Brows...</td>\n",
       "    </tr>\n",
       "    <tr>\n",
       "      <th>2</th>\n",
       "      <th>browser</th>\n",
       "      <th>3</th>\n",
       "      <th>in</th>\n",
       "      <th>en</th>\n",
       "      <th>2020-12-16</th>\n",
       "      <th>com.android.chrome</th>\n",
       "      <th>2020-12-18</th>\n",
       "      <th>Fast, simple, and secure. Google Chrome browser for Android phones and tablets.</th>\n",
       "      <td>Google Chrome is a fast, easy to use, and secu...</td>\n",
       "    </tr>\n",
       "    <tr>\n",
       "      <th rowspan=\"2\" valign=\"top\">3</th>\n",
       "      <th rowspan=\"2\" valign=\"top\">browser</th>\n",
       "      <th rowspan=\"2\" valign=\"top\">4</th>\n",
       "      <th rowspan=\"2\" valign=\"top\">in</th>\n",
       "      <th rowspan=\"2\" valign=\"top\">en</th>\n",
       "      <th rowspan=\"2\" valign=\"top\">2020-12-16</th>\n",
       "      <th rowspan=\"2\" valign=\"top\">com.opera.browser</th>\n",
       "      <th>2021-02-27</th>\n",
       "      <th>Fast, safe web browser: free VPN, Ad blocker, QR-code reader &amp;amp; personalized news</th>\n",
       "      <td>Fast, safe and private, introducing the latest...</td>\n",
       "    </tr>\n",
       "    <tr>\n",
       "      <th>2020-12-18</th>\n",
       "      <th>Fast, safe web browser: free VPN, Ad blocker, QR-code reader &amp;amp; personalized news</th>\n",
       "      <td>Opera is a fast, safe web browser for your And...</td>\n",
       "    </tr>\n",
       "  </tbody>\n",
       "</table>\n",
       "</div>"
      ],
      "text/plain": [
       "                                                                                                                                                                                      browser_rankings\n",
       "ID Keyword Rank Country Language Date       App ID               Date of Last Description Change Short Description                                                                    Long Description\n",
       "1  browser 2    in      en       2020-12-16 net.fast.web.browser 2020-12-18                      The small, fastest, secure Web Browser, best mo...  One of the smallest, fastest, secure Web Brows...\n",
       "2  browser 3    in      en       2020-12-16 com.android.chrome   2020-12-18                      Fast, simple, and secure. Google Chrome browser...  Google Chrome is a fast, easy to use, and secu...\n",
       "3  browser 4    in      en       2020-12-16 com.opera.browser    2021-02-27                      Fast, safe web browser: free VPN, Ad blocker, Q...  Fast, safe and private, introducing the latest...\n",
       "                                                                 2020-12-18                      Fast, safe web browser: free VPN, Ad blocker, Q...  Opera is a fast, safe web browser for your And..."
      ]
     },
     "execution_count": 11,
     "metadata": {},
     "output_type": "execute_result"
    }
   ],
   "source": [
    "df = pd.read_csv('browser_rankings_data.csv')\n",
    "df.head()"
   ]
  },
  {
   "cell_type": "code",
   "execution_count": 12,
   "id": "b0bf3349",
   "metadata": {},
   "outputs": [
    {
     "data": {
      "text/plain": [
       "(3067, 1)"
      ]
     },
     "execution_count": 12,
     "metadata": {},
     "output_type": "execute_result"
    }
   ],
   "source": [
    "df.shape"
   ]
  },
  {
   "cell_type": "code",
   "execution_count": 13,
   "id": "74808438",
   "metadata": {},
   "outputs": [
    {
     "data": {
      "text/plain": [
       "Index(['browser_rankings'], dtype='object')"
      ]
     },
     "execution_count": 13,
     "metadata": {},
     "output_type": "execute_result"
    }
   ],
   "source": [
    "df.columns"
   ]
  },
  {
   "cell_type": "code",
   "execution_count": null,
   "id": "a0e246c8",
   "metadata": {},
   "outputs": [],
   "source": [
    "df.reset_index(inplace=True)"
   ]
  },
  {
   "cell_type": "code",
   "execution_count": 15,
   "id": "deb5963b",
   "metadata": {},
   "outputs": [
    {
     "data": {
      "text/html": [
       "<div>\n",
       "<style scoped>\n",
       "    .dataframe tbody tr th:only-of-type {\n",
       "        vertical-align: middle;\n",
       "    }\n",
       "\n",
       "    .dataframe tbody tr th {\n",
       "        vertical-align: top;\n",
       "    }\n",
       "\n",
       "    .dataframe thead th {\n",
       "        text-align: right;\n",
       "    }\n",
       "</style>\n",
       "<table border=\"1\" class=\"dataframe\">\n",
       "  <thead>\n",
       "    <tr style=\"text-align: right;\">\n",
       "      <th></th>\n",
       "      <th>level_0</th>\n",
       "      <th>level_1</th>\n",
       "      <th>level_2</th>\n",
       "      <th>level_3</th>\n",
       "      <th>level_4</th>\n",
       "      <th>level_5</th>\n",
       "      <th>level_6</th>\n",
       "      <th>level_7</th>\n",
       "      <th>level_8</th>\n",
       "      <th>browser_rankings</th>\n",
       "    </tr>\n",
       "  </thead>\n",
       "  <tbody>\n",
       "    <tr>\n",
       "      <th>0</th>\n",
       "      <td>ID</td>\n",
       "      <td>Keyword</td>\n",
       "      <td>Rank</td>\n",
       "      <td>Country</td>\n",
       "      <td>Language</td>\n",
       "      <td>Date</td>\n",
       "      <td>App ID</td>\n",
       "      <td>Date of Last Description Change</td>\n",
       "      <td>Short Description</td>\n",
       "      <td>Long Description</td>\n",
       "    </tr>\n",
       "    <tr>\n",
       "      <th>1</th>\n",
       "      <td>1</td>\n",
       "      <td>browser</td>\n",
       "      <td>2</td>\n",
       "      <td>in</td>\n",
       "      <td>en</td>\n",
       "      <td>2020-12-16</td>\n",
       "      <td>net.fast.web.browser</td>\n",
       "      <td>2020-12-18</td>\n",
       "      <td>The small, fastest, secure Web Browser, best m...</td>\n",
       "      <td>One of the smallest, fastest, secure Web Brows...</td>\n",
       "    </tr>\n",
       "    <tr>\n",
       "      <th>2</th>\n",
       "      <td>2</td>\n",
       "      <td>browser</td>\n",
       "      <td>3</td>\n",
       "      <td>in</td>\n",
       "      <td>en</td>\n",
       "      <td>2020-12-16</td>\n",
       "      <td>com.android.chrome</td>\n",
       "      <td>2020-12-18</td>\n",
       "      <td>Fast, simple, and secure. Google Chrome browse...</td>\n",
       "      <td>Google Chrome is a fast, easy to use, and secu...</td>\n",
       "    </tr>\n",
       "    <tr>\n",
       "      <th>3</th>\n",
       "      <td>3</td>\n",
       "      <td>browser</td>\n",
       "      <td>4</td>\n",
       "      <td>in</td>\n",
       "      <td>en</td>\n",
       "      <td>2020-12-16</td>\n",
       "      <td>com.opera.browser</td>\n",
       "      <td>2021-02-27</td>\n",
       "      <td>Fast, safe web browser: free VPN, Ad blocker, ...</td>\n",
       "      <td>Fast, safe and private, introducing the latest...</td>\n",
       "    </tr>\n",
       "    <tr>\n",
       "      <th>4</th>\n",
       "      <td>3</td>\n",
       "      <td>browser</td>\n",
       "      <td>4</td>\n",
       "      <td>in</td>\n",
       "      <td>en</td>\n",
       "      <td>2020-12-16</td>\n",
       "      <td>com.opera.browser</td>\n",
       "      <td>2020-12-18</td>\n",
       "      <td>Fast, safe web browser: free VPN, Ad blocker, ...</td>\n",
       "      <td>Opera is a fast, safe web browser for your And...</td>\n",
       "    </tr>\n",
       "  </tbody>\n",
       "</table>\n",
       "</div>"
      ],
      "text/plain": [
       "  level_0  level_1 level_2  level_3   level_4     level_5  \\\n",
       "0      ID  Keyword    Rank  Country  Language        Date   \n",
       "1       1  browser       2       in        en  2020-12-16   \n",
       "2       2  browser       3       in        en  2020-12-16   \n",
       "3       3  browser       4       in        en  2020-12-16   \n",
       "4       3  browser       4       in        en  2020-12-16   \n",
       "\n",
       "                level_6                          level_7  \\\n",
       "0                App ID  Date of Last Description Change   \n",
       "1  net.fast.web.browser                       2020-12-18   \n",
       "2    com.android.chrome                       2020-12-18   \n",
       "3     com.opera.browser                       2021-02-27   \n",
       "4     com.opera.browser                       2020-12-18   \n",
       "\n",
       "                                             level_8  \\\n",
       "0                                  Short Description   \n",
       "1  The small, fastest, secure Web Browser, best m...   \n",
       "2  Fast, simple, and secure. Google Chrome browse...   \n",
       "3  Fast, safe web browser: free VPN, Ad blocker, ...   \n",
       "4  Fast, safe web browser: free VPN, Ad blocker, ...   \n",
       "\n",
       "                                    browser_rankings  \n",
       "0                                   Long Description  \n",
       "1  One of the smallest, fastest, secure Web Brows...  \n",
       "2  Google Chrome is a fast, easy to use, and secu...  \n",
       "3  Fast, safe and private, introducing the latest...  \n",
       "4  Opera is a fast, safe web browser for your And...  "
      ]
     },
     "execution_count": 15,
     "metadata": {},
     "output_type": "execute_result"
    }
   ],
   "source": [
    "df.head()"
   ]
  },
  {
   "cell_type": "code",
   "execution_count": 18,
   "id": "347e3042",
   "metadata": {},
   "outputs": [
    {
     "data": {
      "text/plain": [
       "level_0                                          ID\n",
       "level_1                                     Keyword\n",
       "level_2                                        Rank\n",
       "level_3                                     Country\n",
       "level_4                                    Language\n",
       "level_5                                        Date\n",
       "level_6                                      App ID\n",
       "level_7             Date of Last Description Change\n",
       "level_8                           Short Description\n",
       "browser_rankings                   Long Description\n",
       "Name: 0, dtype: object"
      ]
     },
     "execution_count": 18,
     "metadata": {},
     "output_type": "execute_result"
    }
   ],
   "source": [
    "df.iloc[0]"
   ]
  },
  {
   "cell_type": "code",
   "execution_count": 22,
   "id": "8e864f17",
   "metadata": {},
   "outputs": [],
   "source": [
    "# Renaming the columns\n",
    "df.columns = ['ID', 'Keyword', 'Rank', 'Country', 'Language', 'Date', 'App_ID', 'Date_of_Last_Description_Change', 'Short_Description', 'Long_Description']"
   ]
  },
  {
   "cell_type": "code",
   "execution_count": 24,
   "id": "13c0ca9e",
   "metadata": {
    "scrolled": true
   },
   "outputs": [
    {
     "data": {
      "text/plain": [
       "Index(['ID', 'Keyword', 'Rank', 'Country', 'Language', 'Date', 'App_ID',\n",
       "       'Date_of_Last_Description_Change', 'Short_Description',\n",
       "       'Long_Description'],\n",
       "      dtype='object')"
      ]
     },
     "execution_count": 24,
     "metadata": {},
     "output_type": "execute_result"
    }
   ],
   "source": [
    "df.columns"
   ]
  },
  {
   "cell_type": "code",
   "execution_count": 28,
   "id": "8e14b03c",
   "metadata": {},
   "outputs": [],
   "source": [
    "df.drop(0, inplace = True, axis=0)"
   ]
  },
  {
   "cell_type": "code",
   "execution_count": 30,
   "id": "59fec8b9",
   "metadata": {},
   "outputs": [
    {
     "data": {
      "text/html": [
       "<div>\n",
       "<style scoped>\n",
       "    .dataframe tbody tr th:only-of-type {\n",
       "        vertical-align: middle;\n",
       "    }\n",
       "\n",
       "    .dataframe tbody tr th {\n",
       "        vertical-align: top;\n",
       "    }\n",
       "\n",
       "    .dataframe thead th {\n",
       "        text-align: right;\n",
       "    }\n",
       "</style>\n",
       "<table border=\"1\" class=\"dataframe\">\n",
       "  <thead>\n",
       "    <tr style=\"text-align: right;\">\n",
       "      <th></th>\n",
       "      <th>ID</th>\n",
       "      <th>Keyword</th>\n",
       "      <th>Rank</th>\n",
       "      <th>Country</th>\n",
       "      <th>Language</th>\n",
       "      <th>Date</th>\n",
       "      <th>App_ID</th>\n",
       "      <th>Date_of_Last_Description_Change</th>\n",
       "      <th>Short_Description</th>\n",
       "      <th>Long_Description</th>\n",
       "    </tr>\n",
       "  </thead>\n",
       "  <tbody>\n",
       "    <tr>\n",
       "      <th>0</th>\n",
       "      <td>1</td>\n",
       "      <td>browser</td>\n",
       "      <td>2</td>\n",
       "      <td>in</td>\n",
       "      <td>en</td>\n",
       "      <td>2020-12-16</td>\n",
       "      <td>net.fast.web.browser</td>\n",
       "      <td>2020-12-18</td>\n",
       "      <td>The small, fastest, secure Web Browser, best m...</td>\n",
       "      <td>One of the smallest, fastest, secure Web Brows...</td>\n",
       "    </tr>\n",
       "    <tr>\n",
       "      <th>1</th>\n",
       "      <td>2</td>\n",
       "      <td>browser</td>\n",
       "      <td>3</td>\n",
       "      <td>in</td>\n",
       "      <td>en</td>\n",
       "      <td>2020-12-16</td>\n",
       "      <td>com.android.chrome</td>\n",
       "      <td>2020-12-18</td>\n",
       "      <td>Fast, simple, and secure. Google Chrome browse...</td>\n",
       "      <td>Google Chrome is a fast, easy to use, and secu...</td>\n",
       "    </tr>\n",
       "    <tr>\n",
       "      <th>2</th>\n",
       "      <td>3</td>\n",
       "      <td>browser</td>\n",
       "      <td>4</td>\n",
       "      <td>in</td>\n",
       "      <td>en</td>\n",
       "      <td>2020-12-16</td>\n",
       "      <td>com.opera.browser</td>\n",
       "      <td>2021-02-27</td>\n",
       "      <td>Fast, safe web browser: free VPN, Ad blocker, ...</td>\n",
       "      <td>Fast, safe and private, introducing the latest...</td>\n",
       "    </tr>\n",
       "    <tr>\n",
       "      <th>3</th>\n",
       "      <td>3</td>\n",
       "      <td>browser</td>\n",
       "      <td>4</td>\n",
       "      <td>in</td>\n",
       "      <td>en</td>\n",
       "      <td>2020-12-16</td>\n",
       "      <td>com.opera.browser</td>\n",
       "      <td>2020-12-18</td>\n",
       "      <td>Fast, safe web browser: free VPN, Ad blocker, ...</td>\n",
       "      <td>Opera is a fast, safe web browser for your And...</td>\n",
       "    </tr>\n",
       "    <tr>\n",
       "      <th>4</th>\n",
       "      <td>4</td>\n",
       "      <td>browser</td>\n",
       "      <td>1</td>\n",
       "      <td>in</td>\n",
       "      <td>en</td>\n",
       "      <td>2020-12-16</td>\n",
       "      <td>com.cloudmosa.puffinTV</td>\n",
       "      <td>2021-02-07</td>\n",
       "      <td>Puffin TV Browser - One App to Watch All Video...</td>\n",
       "      <td>Puffin TV Browser is a special edition of Puff...</td>\n",
       "    </tr>\n",
       "  </tbody>\n",
       "</table>\n",
       "</div>"
      ],
      "text/plain": [
       "  ID  Keyword Rank Country Language        Date                  App_ID  \\\n",
       "0  1  browser    2      in       en  2020-12-16    net.fast.web.browser   \n",
       "1  2  browser    3      in       en  2020-12-16      com.android.chrome   \n",
       "2  3  browser    4      in       en  2020-12-16       com.opera.browser   \n",
       "3  3  browser    4      in       en  2020-12-16       com.opera.browser   \n",
       "4  4  browser    1      in       en  2020-12-16  com.cloudmosa.puffinTV   \n",
       "\n",
       "  Date_of_Last_Description_Change  \\\n",
       "0                      2020-12-18   \n",
       "1                      2020-12-18   \n",
       "2                      2021-02-27   \n",
       "3                      2020-12-18   \n",
       "4                      2021-02-07   \n",
       "\n",
       "                                   Short_Description  \\\n",
       "0  The small, fastest, secure Web Browser, best m...   \n",
       "1  Fast, simple, and secure. Google Chrome browse...   \n",
       "2  Fast, safe web browser: free VPN, Ad blocker, ...   \n",
       "3  Fast, safe web browser: free VPN, Ad blocker, ...   \n",
       "4  Puffin TV Browser - One App to Watch All Video...   \n",
       "\n",
       "                                    Long_Description  \n",
       "0  One of the smallest, fastest, secure Web Brows...  \n",
       "1  Google Chrome is a fast, easy to use, and secu...  \n",
       "2  Fast, safe and private, introducing the latest...  \n",
       "3  Opera is a fast, safe web browser for your And...  \n",
       "4  Puffin TV Browser is a special edition of Puff...  "
      ]
     },
     "execution_count": 30,
     "metadata": {},
     "output_type": "execute_result"
    }
   ],
   "source": [
    "df.reset_index(inplace=True, drop=True)\n",
    "df.head()"
   ]
  },
  {
   "cell_type": "code",
   "execution_count": 51,
   "id": "dfcec642",
   "metadata": {},
   "outputs": [
    {
     "name": "stdout",
     "output_type": "stream",
     "text": [
      "<class 'pandas.core.frame.DataFrame'>\n",
      "RangeIndex: 3066 entries, 0 to 3065\n",
      "Data columns (total 10 columns):\n",
      " #   Column                           Non-Null Count  Dtype \n",
      "---  ------                           --------------  ----- \n",
      " 0   ID                               3066 non-null   object\n",
      " 1   Keyword                          3066 non-null   object\n",
      " 2   Rank                             3050 non-null   object\n",
      " 3   Country                          3066 non-null   object\n",
      " 4   Language                         3066 non-null   object\n",
      " 5   Date                             3066 non-null   object\n",
      " 6   App_ID                           3066 non-null   object\n",
      " 7   Date_of_Last_Description_Change  3066 non-null   object\n",
      " 8   Short_Description                3066 non-null   object\n",
      " 9   Long_Description                 3066 non-null   object\n",
      "dtypes: object(10)\n",
      "memory usage: 239.7+ KB\n"
     ]
    }
   ],
   "source": [
    "df.info()"
   ]
  },
  {
   "cell_type": "code",
   "execution_count": 53,
   "id": "4f55eb75",
   "metadata": {},
   "outputs": [
    {
     "data": {
      "text/plain": [
       "ID                                  0\n",
       "Keyword                             0\n",
       "Rank                               16\n",
       "Country                             0\n",
       "Language                            0\n",
       "Date                                0\n",
       "App_ID                              0\n",
       "Date_of_Last_Description_Change     0\n",
       "Short_Description                   0\n",
       "Long_Description                    0\n",
       "dtype: int64"
      ]
     },
     "execution_count": 53,
     "metadata": {},
     "output_type": "execute_result"
    }
   ],
   "source": [
    "df.isnull().sum()"
   ]
  },
  {
   "cell_type": "markdown",
   "id": "76f9230f",
   "metadata": {},
   "source": [
    "### Downloading Sentence Similarity model"
   ]
  },
  {
   "cell_type": "code",
   "execution_count": 66,
   "id": "81f52cdd",
   "metadata": {},
   "outputs": [],
   "source": [
    "model = SentenceTransformer('sentence-transformers/all-MiniLM-L6-v2')"
   ]
  },
  {
   "cell_type": "code",
   "execution_count": 54,
   "id": "97c99763",
   "metadata": {},
   "outputs": [],
   "source": [
    "kw_sd_ss = []\n",
    "kw_ld_ss = []\n",
    "sd_ld_ss = []\n",
    "\n",
    "for i in range(len(df)):\n",
    "    kw_sd = [df.Keyword[i], df.Short_Description[i]]\n",
    "    kw_ld = [df.Keyword[i], df.Long_Description[i]]\n",
    "    sd_ld = [df.Short_Description[i], df.Long_Description[i]]\n",
    "    embeddings = model.encode(kw_sd)\n",
    "    embeddings1 = model.encode(kw_ld)\n",
    "    embeddings2 = model.encode(sd_ld)\n",
    "    kw_sd_ss.append(round(cosine_similarity([embeddings[0]], embeddings[1:])[0][0], 2))\n",
    "    kw_ld_ss.append(round(cosine_similarity([embeddings1[0]], embeddings1[1:])[0][0], 2))\n",
    "    sd_ld_ss.append(round(cosine_similarity([embeddings2[0]], embeddings2[1:])[0][0], 2))"
   ]
  },
  {
   "cell_type": "code",
   "execution_count": 56,
   "id": "813752d5",
   "metadata": {},
   "outputs": [],
   "source": [
    "df['kw_sd_ss'] = kw_sd_ss\n",
    "df['kw_ld_ss'] = kw_ld_ss\n",
    "df['sd_ld_ss'] = sd_ld_ss"
   ]
  },
  {
   "cell_type": "code",
   "execution_count": 57,
   "id": "63b551bc",
   "metadata": {},
   "outputs": [
    {
     "data": {
      "text/html": [
       "<div>\n",
       "<style scoped>\n",
       "    .dataframe tbody tr th:only-of-type {\n",
       "        vertical-align: middle;\n",
       "    }\n",
       "\n",
       "    .dataframe tbody tr th {\n",
       "        vertical-align: top;\n",
       "    }\n",
       "\n",
       "    .dataframe thead th {\n",
       "        text-align: right;\n",
       "    }\n",
       "</style>\n",
       "<table border=\"1\" class=\"dataframe\">\n",
       "  <thead>\n",
       "    <tr style=\"text-align: right;\">\n",
       "      <th></th>\n",
       "      <th>ID</th>\n",
       "      <th>Keyword</th>\n",
       "      <th>Rank</th>\n",
       "      <th>Country</th>\n",
       "      <th>Language</th>\n",
       "      <th>Date</th>\n",
       "      <th>App_ID</th>\n",
       "      <th>Date_of_Last_Description_Change</th>\n",
       "      <th>Short_Description</th>\n",
       "      <th>Long_Description</th>\n",
       "      <th>kw_sd_ss</th>\n",
       "      <th>kw_ld_ss</th>\n",
       "      <th>sd_ld_ss</th>\n",
       "    </tr>\n",
       "  </thead>\n",
       "  <tbody>\n",
       "    <tr>\n",
       "      <th>0</th>\n",
       "      <td>1</td>\n",
       "      <td>browser</td>\n",
       "      <td>2</td>\n",
       "      <td>in</td>\n",
       "      <td>en</td>\n",
       "      <td>2020-12-16</td>\n",
       "      <td>net.fast.web.browser</td>\n",
       "      <td>2020-12-18</td>\n",
       "      <td>The small, fastest, secure Web Browser, best m...</td>\n",
       "      <td>One of the smallest, fastest, secure Web Brows...</td>\n",
       "      <td>0.55</td>\n",
       "      <td>0.52</td>\n",
       "      <td>0.77</td>\n",
       "    </tr>\n",
       "    <tr>\n",
       "      <th>1</th>\n",
       "      <td>2</td>\n",
       "      <td>browser</td>\n",
       "      <td>3</td>\n",
       "      <td>in</td>\n",
       "      <td>en</td>\n",
       "      <td>2020-12-16</td>\n",
       "      <td>com.android.chrome</td>\n",
       "      <td>2020-12-18</td>\n",
       "      <td>Fast, simple, and secure. Google Chrome browse...</td>\n",
       "      <td>Google Chrome is a fast, easy to use, and secu...</td>\n",
       "      <td>0.59</td>\n",
       "      <td>0.40</td>\n",
       "      <td>0.73</td>\n",
       "    </tr>\n",
       "    <tr>\n",
       "      <th>2</th>\n",
       "      <td>3</td>\n",
       "      <td>browser</td>\n",
       "      <td>4</td>\n",
       "      <td>in</td>\n",
       "      <td>en</td>\n",
       "      <td>2020-12-16</td>\n",
       "      <td>com.opera.browser</td>\n",
       "      <td>2021-02-27</td>\n",
       "      <td>Fast, safe web browser: free VPN, Ad blocker, ...</td>\n",
       "      <td>Fast, safe and private, introducing the latest...</td>\n",
       "      <td>0.46</td>\n",
       "      <td>0.42</td>\n",
       "      <td>0.66</td>\n",
       "    </tr>\n",
       "    <tr>\n",
       "      <th>3</th>\n",
       "      <td>3</td>\n",
       "      <td>browser</td>\n",
       "      <td>4</td>\n",
       "      <td>in</td>\n",
       "      <td>en</td>\n",
       "      <td>2020-12-16</td>\n",
       "      <td>com.opera.browser</td>\n",
       "      <td>2020-12-18</td>\n",
       "      <td>Fast, safe web browser: free VPN, Ad blocker, ...</td>\n",
       "      <td>Opera is a fast, safe web browser for your And...</td>\n",
       "      <td>0.46</td>\n",
       "      <td>0.45</td>\n",
       "      <td>0.72</td>\n",
       "    </tr>\n",
       "    <tr>\n",
       "      <th>4</th>\n",
       "      <td>4</td>\n",
       "      <td>browser</td>\n",
       "      <td>1</td>\n",
       "      <td>in</td>\n",
       "      <td>en</td>\n",
       "      <td>2020-12-16</td>\n",
       "      <td>com.cloudmosa.puffinTV</td>\n",
       "      <td>2021-02-07</td>\n",
       "      <td>Puffin TV Browser - One App to Watch All Video...</td>\n",
       "      <td>Puffin TV Browser is a special edition of Puff...</td>\n",
       "      <td>0.45</td>\n",
       "      <td>0.44</td>\n",
       "      <td>0.82</td>\n",
       "    </tr>\n",
       "  </tbody>\n",
       "</table>\n",
       "</div>"
      ],
      "text/plain": [
       "  ID  Keyword Rank Country Language        Date                  App_ID  \\\n",
       "0  1  browser    2      in       en  2020-12-16    net.fast.web.browser   \n",
       "1  2  browser    3      in       en  2020-12-16      com.android.chrome   \n",
       "2  3  browser    4      in       en  2020-12-16       com.opera.browser   \n",
       "3  3  browser    4      in       en  2020-12-16       com.opera.browser   \n",
       "4  4  browser    1      in       en  2020-12-16  com.cloudmosa.puffinTV   \n",
       "\n",
       "  Date_of_Last_Description_Change  \\\n",
       "0                      2020-12-18   \n",
       "1                      2020-12-18   \n",
       "2                      2021-02-27   \n",
       "3                      2020-12-18   \n",
       "4                      2021-02-07   \n",
       "\n",
       "                                   Short_Description  \\\n",
       "0  The small, fastest, secure Web Browser, best m...   \n",
       "1  Fast, simple, and secure. Google Chrome browse...   \n",
       "2  Fast, safe web browser: free VPN, Ad blocker, ...   \n",
       "3  Fast, safe web browser: free VPN, Ad blocker, ...   \n",
       "4  Puffin TV Browser - One App to Watch All Video...   \n",
       "\n",
       "                                    Long_Description  kw_sd_ss  kw_ld_ss  \\\n",
       "0  One of the smallest, fastest, secure Web Brows...      0.55      0.52   \n",
       "1  Google Chrome is a fast, easy to use, and secu...      0.59      0.40   \n",
       "2  Fast, safe and private, introducing the latest...      0.46      0.42   \n",
       "3  Opera is a fast, safe web browser for your And...      0.46      0.45   \n",
       "4  Puffin TV Browser is a special edition of Puff...      0.45      0.44   \n",
       "\n",
       "   sd_ld_ss  \n",
       "0      0.77  \n",
       "1      0.73  \n",
       "2      0.66  \n",
       "3      0.72  \n",
       "4      0.82  "
      ]
     },
     "execution_count": 57,
     "metadata": {},
     "output_type": "execute_result"
    }
   ],
   "source": [
    "df.head()"
   ]
  },
  {
   "cell_type": "code",
   "execution_count": 139,
   "id": "9077ce6d",
   "metadata": {},
   "outputs": [
    {
     "name": "stdout",
     "output_type": "stream",
     "text": [
      "Correlation Coefficient between kw_sd_ss and kw_ld_ss: 0.39\n"
     ]
    }
   ],
   "source": [
    "print(f'Correlation Coefficient between kw_sd_ss and kw_ld_ss: {round(np.corrcoef(df[\"kw_sd_ss\"], df[\"kw_ld_ss\"])[0][1], 2)}')"
   ]
  },
  {
   "cell_type": "code",
   "execution_count": 141,
   "id": "760bdf26",
   "metadata": {},
   "outputs": [
    {
     "name": "stdout",
     "output_type": "stream",
     "text": [
      "Correlation Coefficient between kw_sd_ss and sd_ld_ss: 0.23\n"
     ]
    }
   ],
   "source": [
    "print(f'Correlation Coefficient between kw_sd_ss and sd_ld_ss: {round(np.corrcoef(df[\"kw_sd_ss\"], df[\"sd_ld_ss\"])[0][1], 2)}')"
   ]
  },
  {
   "cell_type": "code",
   "execution_count": 140,
   "id": "da9a2250",
   "metadata": {},
   "outputs": [
    {
     "name": "stdout",
     "output_type": "stream",
     "text": [
      "Correlation Coefficient between kw_ld_ss and sd_ld_ss: 0.07\n"
     ]
    }
   ],
   "source": [
    "print(f'Correlation Coefficient between kw_ld_ss and sd_ld_ss: {round(np.corrcoef(df[\"kw_ld_ss\"], df[\"sd_ld_ss\"])[0][1], 2)}')"
   ]
  }
 ],
 "metadata": {
  "kernelspec": {
   "display_name": "Python 3 (ipykernel)",
   "language": "python",
   "name": "python3"
  },
  "language_info": {
   "codemirror_mode": {
    "name": "ipython",
    "version": 3
   },
   "file_extension": ".py",
   "mimetype": "text/x-python",
   "name": "python",
   "nbconvert_exporter": "python",
   "pygments_lexer": "ipython3",
   "version": "3.9.12"
  }
 },
 "nbformat": 4,
 "nbformat_minor": 5
}
